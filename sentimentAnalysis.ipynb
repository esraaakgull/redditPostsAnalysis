{
 "cells": [
  {
   "cell_type": "code",
   "execution_count": 10,
   "id": "8bbadd47-0df8-4b0b-89c9-e16466e5f679",
   "metadata": {},
   "outputs": [
    {
     "name": "stdout",
     "output_type": "stream",
     "text": [
      "Looking in indexes: https://download.pytorch.org/whl/cu118\n",
      "Requirement already satisfied: torch in c:\\users\\eesra\\pycharmprojects\\studyingnlp\\venv\\lib\\site-packages (2.0.1)\n",
      "Requirement already satisfied: torchvision in c:\\users\\eesra\\pycharmprojects\\studyingnlp\\venv\\lib\\site-packages (0.15.2+cu118)\n",
      "Requirement already satisfied: torchaudio in c:\\users\\eesra\\pycharmprojects\\studyingnlp\\venv\\lib\\site-packages (2.0.2+cu118)\n",
      "Requirement already satisfied: filelock in c:\\users\\eesra\\pycharmprojects\\studyingnlp\\venv\\lib\\site-packages (from torch) (3.12.2)\n",
      "Requirement already satisfied: typing-extensions in c:\\users\\eesra\\pycharmprojects\\studyingnlp\\venv\\lib\\site-packages (from torch) (4.7.1)\n",
      "Requirement already satisfied: sympy in c:\\users\\eesra\\pycharmprojects\\studyingnlp\\venv\\lib\\site-packages (from torch) (1.12)\n",
      "Requirement already satisfied: networkx in c:\\users\\eesra\\pycharmprojects\\studyingnlp\\venv\\lib\\site-packages (from torch) (3.1)\n",
      "Requirement already satisfied: jinja2 in c:\\users\\eesra\\pycharmprojects\\studyingnlp\\venv\\lib\\site-packages (from torch) (3.1.2)\n",
      "Requirement already satisfied: numpy in c:\\users\\eesra\\pycharmprojects\\studyingnlp\\venv\\lib\\site-packages (from torchvision) (1.25.1)\n",
      "Requirement already satisfied: requests in c:\\users\\eesra\\pycharmprojects\\studyingnlp\\venv\\lib\\site-packages (from torchvision) (2.31.0)\n",
      "Requirement already satisfied: pillow!=8.3.*,>=5.3.0 in c:\\users\\eesra\\pycharmprojects\\studyingnlp\\venv\\lib\\site-packages (from torchvision) (10.0.0)\n",
      "Requirement already satisfied: MarkupSafe>=2.0 in c:\\users\\eesra\\pycharmprojects\\studyingnlp\\venv\\lib\\site-packages (from jinja2->torch) (2.1.3)\n",
      "Requirement already satisfied: charset-normalizer<4,>=2 in c:\\users\\eesra\\pycharmprojects\\studyingnlp\\venv\\lib\\site-packages (from requests->torchvision) (3.2.0)\n",
      "Requirement already satisfied: idna<4,>=2.5 in c:\\users\\eesra\\pycharmprojects\\studyingnlp\\venv\\lib\\site-packages (from requests->torchvision) (3.4)\n",
      "Requirement already satisfied: urllib3<3,>=1.21.1 in c:\\users\\eesra\\pycharmprojects\\studyingnlp\\venv\\lib\\site-packages (from requests->torchvision) (2.0.4)\n",
      "Requirement already satisfied: certifi>=2017.4.17 in c:\\users\\eesra\\pycharmprojects\\studyingnlp\\venv\\lib\\site-packages (from requests->torchvision) (2023.7.22)\n",
      "Requirement already satisfied: mpmath>=0.19 in c:\\users\\eesra\\pycharmprojects\\studyingnlp\\venv\\lib\\site-packages (from sympy->torch) (1.3.0)\n"
     ]
    },
    {
     "name": "stderr",
     "output_type": "stream",
     "text": [
      "\n",
      "[notice] A new release of pip is available: 23.1.2 -> 23.2.1\n",
      "[notice] To update, run: python.exe -m pip install --upgrade pip\n"
     ]
    }
   ],
   "source": [
    "!pip install torch torchvision torchaudio --index-url https://download.pytorch.org/whl/cu118"
   ]
  },
  {
   "cell_type": "code",
   "execution_count": 11,
   "id": "dafdfd0b-a760-43ff-ad33-205bd72f5d6a",
   "metadata": {},
   "outputs": [
    {
     "name": "stdout",
     "output_type": "stream",
     "text": [
      "Requirement already satisfied: transformers in c:\\users\\eesra\\pycharmprojects\\studyingnlp\\venv\\lib\\site-packages (4.31.0)\n",
      "Requirement already satisfied: requests in c:\\users\\eesra\\pycharmprojects\\studyingnlp\\venv\\lib\\site-packages (2.31.0)\n",
      "Requirement already satisfied: beautifulsoup4 in c:\\users\\eesra\\pycharmprojects\\studyingnlp\\venv\\lib\\site-packages (4.12.2)\n",
      "Requirement already satisfied: pandas in c:\\users\\eesra\\pycharmprojects\\studyingnlp\\venv\\lib\\site-packages (2.0.3)\n",
      "Requirement already satisfied: numpy in c:\\users\\eesra\\pycharmprojects\\studyingnlp\\venv\\lib\\site-packages (1.25.1)\n",
      "Requirement already satisfied: filelock in c:\\users\\eesra\\pycharmprojects\\studyingnlp\\venv\\lib\\site-packages (from transformers) (3.12.2)\n",
      "Requirement already satisfied: huggingface-hub<1.0,>=0.14.1 in c:\\users\\eesra\\pycharmprojects\\studyingnlp\\venv\\lib\\site-packages (from transformers) (0.16.4)\n",
      "Requirement already satisfied: packaging>=20.0 in c:\\users\\eesra\\pycharmprojects\\studyingnlp\\venv\\lib\\site-packages (from transformers) (23.1)\n",
      "Requirement already satisfied: pyyaml>=5.1 in c:\\users\\eesra\\pycharmprojects\\studyingnlp\\venv\\lib\\site-packages (from transformers) (6.0.1)\n",
      "Requirement already satisfied: regex!=2019.12.17 in c:\\users\\eesra\\pycharmprojects\\studyingnlp\\venv\\lib\\site-packages (from transformers) (2023.6.3)\n",
      "Requirement already satisfied: tokenizers!=0.11.3,<0.14,>=0.11.1 in c:\\users\\eesra\\pycharmprojects\\studyingnlp\\venv\\lib\\site-packages (from transformers) (0.13.3)\n",
      "Requirement already satisfied: safetensors>=0.3.1 in c:\\users\\eesra\\pycharmprojects\\studyingnlp\\venv\\lib\\site-packages (from transformers) (0.3.1)\n",
      "Requirement already satisfied: tqdm>=4.27 in c:\\users\\eesra\\pycharmprojects\\studyingnlp\\venv\\lib\\site-packages (from transformers) (4.65.0)\n",
      "Requirement already satisfied: charset-normalizer<4,>=2 in c:\\users\\eesra\\pycharmprojects\\studyingnlp\\venv\\lib\\site-packages (from requests) (3.2.0)\n",
      "Requirement already satisfied: idna<4,>=2.5 in c:\\users\\eesra\\pycharmprojects\\studyingnlp\\venv\\lib\\site-packages (from requests) (3.4)\n",
      "Requirement already satisfied: urllib3<3,>=1.21.1 in c:\\users\\eesra\\pycharmprojects\\studyingnlp\\venv\\lib\\site-packages (from requests) (2.0.4)\n",
      "Requirement already satisfied: certifi>=2017.4.17 in c:\\users\\eesra\\pycharmprojects\\studyingnlp\\venv\\lib\\site-packages (from requests) (2023.7.22)\n",
      "Requirement already satisfied: soupsieve>1.2 in c:\\users\\eesra\\pycharmprojects\\studyingnlp\\venv\\lib\\site-packages (from beautifulsoup4) (2.4.1)\n",
      "Requirement already satisfied: python-dateutil>=2.8.2 in c:\\users\\eesra\\pycharmprojects\\studyingnlp\\venv\\lib\\site-packages (from pandas) (2.8.2)\n",
      "Requirement already satisfied: pytz>=2020.1 in c:\\users\\eesra\\pycharmprojects\\studyingnlp\\venv\\lib\\site-packages (from pandas) (2023.3)\n",
      "Requirement already satisfied: tzdata>=2022.1 in c:\\users\\eesra\\pycharmprojects\\studyingnlp\\venv\\lib\\site-packages (from pandas) (2023.3)\n",
      "Requirement already satisfied: fsspec in c:\\users\\eesra\\pycharmprojects\\studyingnlp\\venv\\lib\\site-packages (from huggingface-hub<1.0,>=0.14.1->transformers) (2023.6.0)\n",
      "Requirement already satisfied: typing-extensions>=3.7.4.3 in c:\\users\\eesra\\pycharmprojects\\studyingnlp\\venv\\lib\\site-packages (from huggingface-hub<1.0,>=0.14.1->transformers) (4.7.1)\n",
      "Requirement already satisfied: six>=1.5 in c:\\users\\eesra\\pycharmprojects\\studyingnlp\\venv\\lib\\site-packages (from python-dateutil>=2.8.2->pandas) (1.16.0)\n",
      "Requirement already satisfied: colorama in c:\\users\\eesra\\pycharmprojects\\studyingnlp\\venv\\lib\\site-packages (from tqdm>=4.27->transformers) (0.4.6)\n"
     ]
    },
    {
     "name": "stderr",
     "output_type": "stream",
     "text": [
      "\n",
      "[notice] A new release of pip is available: 23.1.2 -> 23.2.1\n",
      "[notice] To update, run: python.exe -m pip install --upgrade pip\n"
     ]
    }
   ],
   "source": [
    "!pip install transformers requests beautifulsoup4 pandas numpy"
   ]
  },
  {
   "cell_type": "code",
   "execution_count": 12,
   "id": "3594f682-8e18-450f-8544-5eea8699d592",
   "metadata": {},
   "outputs": [
    {
     "ename": "SyntaxError",
     "evalue": "invalid syntax (842801469.py, line 1)",
     "output_type": "error",
     "traceback": [
      "\u001b[1;36m  Cell \u001b[1;32mIn[12], line 1\u001b[1;36m\u001b[0m\n\u001b[1;33m    python.exe -m pip install --upgrade pip\u001b[0m\n\u001b[1;37m                  ^\u001b[0m\n\u001b[1;31mSyntaxError\u001b[0m\u001b[1;31m:\u001b[0m invalid syntax\n"
     ]
    }
   ],
   "source": [
    "python.exe -m pip install --upgrade pip"
   ]
  },
  {
   "cell_type": "code",
   "execution_count": 13,
   "id": "fda51f41-8c58-4828-aec8-8c4d9f398de0",
   "metadata": {},
   "outputs": [
    {
     "name": "stdout",
     "output_type": "stream",
     "text": [
      "Requirement already satisfied: pip in c:\\users\\eesra\\pycharmprojects\\studyingnlp\\venv\\lib\\site-packages (23.1.2)\n",
      "Collecting pip\n",
      "  Downloading pip-23.2.1-py3-none-any.whl (2.1 MB)\n",
      "                                              0.0/2.1 MB ? eta -:--:--\n",
      "                                              0.0/2.1 MB 991.0 kB/s eta 0:00:03\n",
      "     --                                       0.1/2.1 MB 1.2 MB/s eta 0:00:02\n",
      "     ---                                      0.2/2.1 MB 1.5 MB/s eta 0:00:02\n",
      "     ----                                     0.2/2.1 MB 1.4 MB/s eta 0:00:02\n",
      "     ------                                   0.3/2.1 MB 1.5 MB/s eta 0:00:02\n",
      "     -------                                  0.4/2.1 MB 1.4 MB/s eta 0:00:02\n",
      "     ---------                                0.5/2.1 MB 1.6 MB/s eta 0:00:02\n",
      "     ----------                               0.5/2.1 MB 1.5 MB/s eta 0:00:02\n",
      "     ----------                               0.5/2.1 MB 1.5 MB/s eta 0:00:02\n",
      "     -----------                              0.6/2.1 MB 1.4 MB/s eta 0:00:02\n",
      "     ------------                             0.7/2.1 MB 1.4 MB/s eta 0:00:02\n",
      "     -------------                            0.7/2.1 MB 1.3 MB/s eta 0:00:02\n",
      "     -------------                            0.7/2.1 MB 1.3 MB/s eta 0:00:02\n",
      "     --------------                           0.7/2.1 MB 1.3 MB/s eta 0:00:02\n",
      "     --------------                           0.7/2.1 MB 1.3 MB/s eta 0:00:02\n",
      "     --------------                           0.7/2.1 MB 1.3 MB/s eta 0:00:02\n",
      "     --------------                           0.7/2.1 MB 1.3 MB/s eta 0:00:02\n",
      "     ---------------                          0.8/2.1 MB 1.0 MB/s eta 0:00:02\n",
      "     ----------------                         0.9/2.1 MB 1.0 MB/s eta 0:00:02\n",
      "     -----------------                        0.9/2.1 MB 1.0 MB/s eta 0:00:02\n",
      "     -----------------                        0.9/2.1 MB 1.0 MB/s eta 0:00:02\n",
      "     ------------------                       0.9/2.1 MB 977.8 kB/s eta 0:00:02\n",
      "     ------------------                       1.0/2.1 MB 962.6 kB/s eta 0:00:02\n",
      "     -------------------                      1.0/2.1 MB 948.7 kB/s eta 0:00:02\n",
      "     -------------------                      1.0/2.1 MB 948.7 kB/s eta 0:00:02\n",
      "     -------------------                      1.0/2.1 MB 948.7 kB/s eta 0:00:02\n",
      "     -------------------                      1.0/2.1 MB 948.7 kB/s eta 0:00:02\n",
      "     --------------------                     1.1/2.1 MB 871.3 kB/s eta 0:00:02\n",
      "     ---------------------                    1.1/2.1 MB 912.8 kB/s eta 0:00:02\n",
      "     ----------------------                   1.2/2.1 MB 884.3 kB/s eta 0:00:02\n",
      "     ----------------------                   1.2/2.1 MB 861.6 kB/s eta 0:00:02\n",
      "     -----------------------                  1.2/2.1 MB 852.1 kB/s eta 0:00:02\n",
      "     -----------------------                  1.2/2.1 MB 845.7 kB/s eta 0:00:02\n",
      "     ------------------------                 1.3/2.1 MB 839.7 kB/s eta 0:00:01\n",
      "     ------------------------                 1.3/2.1 MB 834.0 kB/s eta 0:00:01\n",
      "     -------------------------                1.3/2.1 MB 821.0 kB/s eta 0:00:01\n",
      "     --------------------------               1.4/2.1 MB 830.4 kB/s eta 0:00:01\n",
      "     --------------------------               1.4/2.1 MB 820.7 kB/s eta 0:00:01\n",
      "     ---------------------------              1.4/2.1 MB 816.6 kB/s eta 0:00:01\n",
      "     ---------------------------              1.5/2.1 MB 818.0 kB/s eta 0:00:01\n",
      "     ----------------------------             1.5/2.1 MB 813.8 kB/s eta 0:00:01\n",
      "     -----------------------------            1.5/2.1 MB 809.7 kB/s eta 0:00:01\n",
      "     -----------------------------            1.5/2.1 MB 812.7 kB/s eta 0:00:01\n",
      "     ------------------------------           1.6/2.1 MB 808.8 kB/s eta 0:00:01\n",
      "     -------------------------------          1.6/2.1 MB 803.8 kB/s eta 0:00:01\n",
      "     -------------------------------          1.6/2.1 MB 803.8 kB/s eta 0:00:01\n",
      "     -------------------------------          1.6/2.1 MB 803.8 kB/s eta 0:00:01\n",
      "     -------------------------------          1.6/2.1 MB 803.8 kB/s eta 0:00:01\n",
      "     -------------------------------          1.6/2.1 MB 803.8 kB/s eta 0:00:01\n",
      "     -------------------------------          1.6/2.1 MB 803.8 kB/s eta 0:00:01\n",
      "     -------------------------------          1.6/2.1 MB 803.8 kB/s eta 0:00:01\n",
      "     -------------------------------          1.6/2.1 MB 803.8 kB/s eta 0:00:01\n",
      "     -------------------------------          1.6/2.1 MB 803.8 kB/s eta 0:00:01\n",
      "     -------------------------------          1.6/2.1 MB 803.8 kB/s eta 0:00:01\n",
      "     -------------------------------          1.6/2.1 MB 803.8 kB/s eta 0:00:01\n",
      "     -------------------------------          1.6/2.1 MB 803.8 kB/s eta 0:00:01\n",
      "     -------------------------------          1.6/2.1 MB 803.8 kB/s eta 0:00:01\n",
      "     -------------------------------          1.6/2.1 MB 624.0 kB/s eta 0:00:01\n",
      "     -------------------------------          1.6/2.1 MB 609.8 kB/s eta 0:00:01\n",
      "     -------------------------------          1.7/2.1 MB 609.9 kB/s eta 0:00:01\n",
      "     --------------------------------         1.7/2.1 MB 611.2 kB/s eta 0:00:01\n",
      "     ---------------------------------        1.7/2.1 MB 611.8 kB/s eta 0:00:01\n",
      "     ---------------------------------        1.7/2.1 MB 608.7 kB/s eta 0:00:01\n",
      "     ---------------------------------        1.8/2.1 MB 609.4 kB/s eta 0:00:01\n",
      "     ----------------------------------       1.8/2.1 MB 613.6 kB/s eta 0:00:01\n",
      "     -----------------------------------      1.9/2.1 MB 617.7 kB/s eta 0:00:01\n",
      "     ------------------------------------     1.9/2.1 MB 621.6 kB/s eta 0:00:01\n",
      "     ------------------------------------     1.9/2.1 MB 622.1 kB/s eta 0:00:01\n",
      "     -------------------------------------    2.0/2.1 MB 625.8 kB/s eta 0:00:01\n",
      "     --------------------------------------   2.0/2.1 MB 623.1 kB/s eta 0:00:01\n",
      "     --------------------------------------   2.0/2.1 MB 626.5 kB/s eta 0:00:01\n",
      "     ---------------------------------------  2.0/2.1 MB 623.9 kB/s eta 0:00:01\n",
      "     ---------------------------------------  2.1/2.1 MB 627.3 kB/s eta 0:00:01\n",
      "     ---------------------------------------- 2.1/2.1 MB 621.0 kB/s eta 0:00:00\n",
      "Installing collected packages: pip\n",
      "  Attempting uninstall: pip\n",
      "    Found existing installation: pip 23.1.2\n",
      "    Uninstalling pip-23.1.2:\n",
      "      Successfully uninstalled pip-23.1.2\n",
      "Successfully installed pip-23.2.1\n",
      "Note: you may need to restart the kernel to use updated packages.\n"
     ]
    }
   ],
   "source": [
    "pip install --upgrade pip"
   ]
  },
  {
   "cell_type": "code",
   "execution_count": null,
   "id": "276d48ee-65a5-4dac-98d8-6d5f5d66e6e6",
   "metadata": {},
   "outputs": [],
   "source": []
  }
 ],
 "metadata": {
  "kernelspec": {
   "display_name": "Python 3 (ipykernel)",
   "language": "python",
   "name": "python3"
  },
  "language_info": {
   "codemirror_mode": {
    "name": "ipython",
    "version": 3
   },
   "file_extension": ".py",
   "mimetype": "text/x-python",
   "name": "python",
   "nbconvert_exporter": "python",
   "pygments_lexer": "ipython3",
   "version": "3.9.13"
  }
 },
 "nbformat": 4,
 "nbformat_minor": 5
}
